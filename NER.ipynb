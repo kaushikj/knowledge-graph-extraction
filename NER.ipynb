{
 "cells": [
  {
   "cell_type": "markdown",
   "id": "78688291",
   "metadata": {},
   "source": [
    "### Named Entity Recognition\n",
    "### Run if not alread installed"
   ]
  },
  {
   "cell_type": "code",
   "execution_count": null,
   "id": "35eb70fb",
   "metadata": {},
   "outputs": [],
   "source": [
    "!pip install keras\n",
    "!pip install tensorflow==2.3.0\n",
    "!pip install pydot\n",
    "!pip install graphviz\n",
    "!pip install pydotplus"
   ]
  },
  {
   "cell_type": "code",
   "execution_count": 7,
   "id": "6a613b5a",
   "metadata": {},
   "outputs": [
    {
     "name": "stderr",
     "output_type": "stream",
     "text": [
      "[nltk_data] Downloading package stopwords to\n",
      "[nltk_data]     C:\\Users\\sreep\\AppData\\Roaming\\nltk_data...\n",
      "[nltk_data]   Package stopwords is already up-to-date!\n",
      "[nltk_data] Downloading package punkt to\n",
      "[nltk_data]     C:\\Users\\sreep\\AppData\\Roaming\\nltk_data...\n",
      "[nltk_data]   Package punkt is already up-to-date!\n",
      "[nltk_data] Downloading package averaged_perceptron_tagger to\n",
      "[nltk_data]     C:\\Users\\sreep\\AppData\\Roaming\\nltk_data...\n",
      "[nltk_data]   Package averaged_perceptron_tagger is already up-to-\n",
      "[nltk_data]       date!\n"
     ]
    }
   ],
   "source": [
    "import pandas as pd\n",
    "import re\n",
    "import string\n",
    "import nltk\n",
    "from nltk.tokenize import word_tokenize\n",
    "from nltk.tag import pos_tag\n",
    "nltk.download('stopwords')\n",
    "from bs4 import BeautifulSoup\n",
    "import collections\n",
    "from collections import Counter\n",
    "import re\n",
    "nltk.download('punkt')\n",
    "\n",
    "from nltk.corpus import stopwords\n",
    "from nltk.tokenize import word_tokenize\n",
    "stop_words = set(stopwords.words('english'))\n",
    "nltk.download('averaged_perceptron_tagger')\n",
    "\n",
    "from random import randrange\n",
    "\n",
    "from sklearn.model_selection import train_test_split\n",
    "from keras.preprocessing.sequence import pad_sequences\n",
    "from keras.utils import to_categorical\n",
    "\n",
    "import numpy as np\n",
    "import tensorflow\n",
    "from tensorflow.keras import Sequential, Model, Input\n",
    "from tensorflow.keras.layers import LSTM, Embedding, Dense, TimeDistributed, Dropout, Bidirectional\n",
    "from tensorflow.keras.utils import plot_model\n",
    "\n",
    "from numpy.random import seed\n",
    "seed(1)\n",
    "tensorflow.random.set_seed(2)"
   ]
  },
  {
   "cell_type": "code",
   "execution_count": 3,
   "id": "fbd7b296",
   "metadata": {},
   "outputs": [],
   "source": [
    "data = pd.read_csv('data.csv')"
   ]
  },
  {
   "cell_type": "code",
   "execution_count": 4,
   "id": "547576f3",
   "metadata": {},
   "outputs": [],
   "source": [
    "from itertools import chain\n",
    "def createIndexDictionary(dataset, type):\n",
    "    tok2idxArr = {}\n",
    "    idx2tokArr = {}\n",
    "    \n",
    "    if type == 'token':\n",
    "        vocab = list(set(data['Word'].to_list()))\n",
    "    else:\n",
    "        vocab = list(set(data['Tag'].to_list()))\n",
    "    \n",
    "    idx2tokArr = {idx:tok for  idx, tok in enumerate(vocab)}\n",
    "    tok2idxArr = {tok:idx for  idx, tok in enumerate(vocab)}\n",
    "    return tok2idxArr, idx2tokArr\n",
    "\n",
    "\n",
    "token2idx, idx2token = createIndexDictionary(data, 'token')\n",
    "tag2idx, idx2tag = createIndexDictionary(data, 'tag')"
   ]
  },
  {
   "cell_type": "code",
   "execution_count": 5,
   "id": "7d719c4c",
   "metadata": {},
   "outputs": [],
   "source": [
    "data['Word_idx'] = data['Word'].map(token2idx)\n",
    "data['Tag_idx'] = data['Tag'].map(tag2idx)\n",
    "words = list(set(data[\"Word\"].values))\n",
    "tags = list(set(data[\"Tag\"].values))"
   ]
  },
  {
   "cell_type": "code",
   "execution_count": 6,
   "id": "a243ce2a",
   "metadata": {},
   "outputs": [
    {
     "data": {
      "text/plain": [
       "Sentence #     True\n",
       "Word          False\n",
       "POS           False\n",
       "Tag           False\n",
       "Word_idx      False\n",
       "Tag_idx       False\n",
       "dtype: bool"
      ]
     },
     "execution_count": 6,
     "metadata": {},
     "output_type": "execute_result"
    }
   ],
   "source": [
    "data.isna().any() #Detect Missing Values"
   ]
  },
  {
   "cell_type": "code",
   "execution_count": 14,
   "id": "13ddb927",
   "metadata": {},
   "outputs": [
    {
     "name": "stderr",
     "output_type": "stream",
     "text": [
      "<ipython-input-14-1ee94d57c067>:3: FutureWarning: Indexing with multiple keys (implicitly converted to a tuple of keys) will be deprecated, use a list instead.\n",
      "  grouped_data = data_fillna.groupby(['Sentence #'],as_index=False\n"
     ]
    }
   ],
   "source": [
    "#Dataset cannot have any missing values and hence fill it with fillna method\n",
    "data_fillna = data.fillna(method='ffill', axis=0)\n",
    "grouped_data = data_fillna.groupby(['Sentence #'],as_index=False\n",
    "                                )['Word', 'POS', 'Tag', 'Word_idx', 'Tag_idx'].agg(lambda x: list(x))"
   ]
  },
  {
   "cell_type": "code",
   "execution_count": 15,
   "id": "2fbead7b",
   "metadata": {},
   "outputs": [
    {
     "name": "stdout",
     "output_type": "stream",
     "text": [
      "train_tokens length: 43163 \n",
      "test_tokens length: 4796 \n",
      "train_tags: 43163 \n",
      "test_tags: 4796\n"
     ]
    }
   ],
   "source": [
    "def split_padded_dataset(grouped_data, data):\n",
    "    n_token = len(list(set(data['Word'].to_list())))\n",
    "    n_tag = len(list(set(data['Tag'].to_list())))\n",
    "    \n",
    "    tokens = grouped_data['Word_idx'].tolist()\n",
    "    maxlen = max([len(s) for s in tokens])\n",
    "    pad_tokens = pad_sequences(tokens, maxlen=maxlen, dtype='int32', padding='post', value= n_token - 1)\n",
    "    \n",
    "    tags = grouped_data['Tag_idx'].tolist()\n",
    "    pad_tags = pad_sequences(tags, maxlen=maxlen, dtype='int32', padding='post', value= tag2idx[\"O\"])\n",
    "    \n",
    "    n_tags = len(tag2idx)\n",
    "    pad_tags = [to_categorical(i, num_classes=n_tags) for i in pad_tags]\n",
    "    \n",
    "    \n",
    "    train_tokens, test_tokens, train_tags, test_tags = train_test_split(pad_tokens, pad_tags, test_size=0.1, train_size=0.9, random_state=2020)\n",
    "\n",
    "    print(\n",
    "        'train_tokens length:', len(train_tokens),\n",
    "        '\\ntest_tokens length:', len(test_tokens),\n",
    "        '\\ntrain_tags:', len(train_tags),\n",
    "        '\\ntest_tags:', len(test_tags)\n",
    "    )\n",
    "    \n",
    "    return train_tokens, test_tokens, train_tags, test_tags\n",
    "\n",
    "#Spliting data into train and test datat set.\n",
    "train_tokens, test_tokens, train_tags, test_tags = split_padded_dataset(grouped_data, data)"
   ]
  },
  {
   "cell_type": "code",
   "execution_count": 16,
   "id": "d0c72e5c",
   "metadata": {},
   "outputs": [
    {
     "name": "stdout",
     "output_type": "stream",
     "text": [
      "input_dim:  35173 \n",
      "output_dim:  64 \n",
      "input_length:  104 \n",
      "n_tags:  17\n"
     ]
    }
   ],
   "source": [
    "input_dim = len(list(set(data['Word'].to_list())))+1\n",
    "output_dim = 64\n",
    "input_length = max([len(s) for s in grouped_data['Word_idx'].tolist()])\n",
    "n_tags = len(tag2idx)\n",
    "print('input_dim: ', input_dim, '\\noutput_dim: ', output_dim, '\\ninput_length: ', input_length, '\\nn_tags: ', n_tags)"
   ]
  },
  {
   "cell_type": "code",
   "execution_count": 17,
   "id": "5ac00990",
   "metadata": {},
   "outputs": [],
   "source": [
    "from tensorflow.keras import Model,Input\n",
    "from tensorflow.keras.layers import LSTM,Embedding,Dense\n",
    "from tensorflow.keras.layers import TimeDistributed, SpatialDropout1D,Bidirectional\n",
    "def createLSTMModel():\n",
    "    input_word = Input(shape=(input_length,))\n",
    "    model = Embedding(input_dim=input_dim,output_dim=output_dim,input_length=input_length)(input_word)\n",
    "    model = SpatialDropout1D(0.1)(model)\n",
    "    model = Bidirectional(LSTM(units=100,return_sequences=True,recurrent_dropout=0.1))(model)\n",
    "    out = TimeDistributed(Dense(n_tags,activation='softmax'))(model)\n",
    "    model = Model(input_word,out)\n",
    "    model.summary()\n",
    "    \n",
    "    return model"
   ]
  },
  {
   "cell_type": "code",
   "execution_count": 18,
   "id": "2eefbd48",
   "metadata": {},
   "outputs": [
    {
     "name": "stdout",
     "output_type": "stream",
     "text": [
      "Model: \"functional_1\"\n",
      "_________________________________________________________________\n",
      "Layer (type)                 Output Shape              Param #   \n",
      "=================================================================\n",
      "input_1 (InputLayer)         [(None, 104)]             0         \n",
      "_________________________________________________________________\n",
      "embedding (Embedding)        (None, 104, 64)           2251072   \n",
      "_________________________________________________________________\n",
      "spatial_dropout1d (SpatialDr (None, 104, 64)           0         \n",
      "_________________________________________________________________\n",
      "bidirectional (Bidirectional (None, 104, 200)          132000    \n",
      "_________________________________________________________________\n",
      "time_distributed (TimeDistri (None, 104, 17)           3417      \n",
      "=================================================================\n",
      "Total params: 2,386,489\n",
      "Trainable params: 2,386,489\n",
      "Non-trainable params: 0\n",
      "_________________________________________________________________\n"
     ]
    },
    {
     "data": {
      "image/png": "[encoded data removed]",
      "text/plain": [
       "<IPython.core.display.Image object>"
      ]
     },
     "execution_count": 18,
     "metadata": {},
     "output_type": "execute_result"
    }
   ],
   "source": [
    "def train_model(X, y, model):   \n",
    "    hist = model.fit(X, y, batch_size=32, verbose=1, epochs=3, validation_split=0.2)\n",
    "       \n",
    "nerModel = createLSTMModel()\n",
    "plot_model(nerModel)"
   ]
  },
  {
   "cell_type": "code",
   "execution_count": 20,
   "id": "8e1c0ba7",
   "metadata": {},
   "outputs": [],
   "source": [
    "nerModel.compile(optimizer = 'adam',loss='categorical_crossentropy',metrics=['accuracy'])"
   ]
  },
  {
   "cell_type": "code",
   "execution_count": 22,
   "id": "abed551d",
   "metadata": {
    "scrolled": true
   },
   "outputs": [
    {
     "name": "stdout",
     "output_type": "stream",
     "text": [
      "Epoch 1/3\n",
      "1080/1080 [==============================] - 175s 162ms/step - loss: 0.1074 - accuracy: 0.9783 - val_loss: 0.0349 - val_accuracy: 0.9901\n",
      "Epoch 2/3\n",
      "1080/1080 [==============================] - 170s 158ms/step - loss: 0.0259 - accuracy: 0.9925 - val_loss: 0.0256 - val_accuracy: 0.9923\n",
      "Epoch 3/3\n",
      "1080/1080 [==============================] - 169s 156ms/step - loss: 0.0186 - accuracy: 0.9944 - val_loss: 0.0236 - val_accuracy: 0.9929\n"
     ]
    }
   ],
   "source": [
    "train_model(train_tokens, np.array(train_tags), nerModel)"
   ]
  },
  {
   "cell_type": "code",
   "execution_count": 23,
   "id": "0908d406",
   "metadata": {},
   "outputs": [
    {
     "name": "stdout",
     "output_type": "stream",
     "text": [
      "150/150 [==============================] - 3s 22ms/step - loss: 0.0235 - accuracy: 0.9930\n"
     ]
    },
    {
     "data": {
      "text/plain": [
       "[0.023497821763157845, 0.9930471181869507]"
      ]
     },
     "execution_count": 23,
     "metadata": {},
     "output_type": "execute_result"
    }
   ],
   "source": [
    "nerModel.evaluate(test_tokens, np.array(test_tags))"
   ]
  },
  {
   "cell_type": "code",
   "execution_count": 35,
   "id": "567150fa",
   "metadata": {},
   "outputs": [
    {
     "name": "stdout",
     "output_type": "stream",
     "text": [
      "Word                     ||Actual    ||Pred\n",
      "==============================\n",
      "4.1                      : O          O\n",
      "install                  : O          O\n",
      "focuses                  : O          O\n",
      "turbans                  : O          O\n",
      "HAVING                   : O          O\n",
      "Charlotte                : O          O\n",
      "kidnappings              : O          O\n",
      "Claus                    : O          O\n",
      "midwest                  : B-geo      B-geo\n",
      "jolted                   : B-tim      B-tim\n",
      "Samuel                   : O          O\n",
      "targeting                : O          O\n",
      "targeting                : O          O\n",
      "targeting                : O          O\n",
      "targeting                : O          O\n",
      "targeting                : O          O\n",
      "targeting                : O          O\n",
      "targeting                : O          O\n",
      "targeting                : O          O\n",
      "targeting                : O          O\n",
      "targeting                : O          O\n",
      "targeting                : O          O\n",
      "targeting                : O          O\n",
      "targeting                : O          O\n",
      "targeting                : O          O\n",
      "targeting                : O          O\n",
      "targeting                : O          O\n",
      "targeting                : O          O\n",
      "targeting                : O          O\n",
      "targeting                : O          O\n",
      "targeting                : O          O\n",
      "targeting                : O          O\n",
      "targeting                : O          O\n",
      "targeting                : O          O\n",
      "targeting                : O          O\n",
      "targeting                : O          O\n",
      "targeting                : O          O\n",
      "targeting                : O          O\n",
      "targeting                : O          O\n",
      "targeting                : O          O\n",
      "targeting                : O          O\n",
      "targeting                : O          O\n",
      "targeting                : O          O\n",
      "targeting                : O          O\n",
      "targeting                : O          O\n",
      "targeting                : O          O\n",
      "targeting                : O          O\n",
      "targeting                : O          O\n",
      "targeting                : O          O\n",
      "targeting                : O          O\n",
      "targeting                : O          O\n",
      "targeting                : O          O\n",
      "targeting                : O          O\n",
      "targeting                : O          O\n",
      "targeting                : O          O\n",
      "targeting                : O          O\n",
      "targeting                : O          O\n",
      "targeting                : O          O\n",
      "targeting                : O          O\n",
      "targeting                : O          O\n",
      "targeting                : O          O\n",
      "targeting                : O          O\n",
      "targeting                : O          O\n",
      "targeting                : O          O\n",
      "targeting                : O          O\n",
      "targeting                : O          O\n",
      "targeting                : O          O\n",
      "targeting                : O          O\n",
      "targeting                : O          O\n",
      "targeting                : O          O\n",
      "targeting                : O          O\n",
      "targeting                : O          O\n",
      "targeting                : O          O\n",
      "targeting                : O          O\n",
      "targeting                : O          O\n",
      "targeting                : O          O\n",
      "targeting                : O          O\n",
      "targeting                : O          O\n",
      "targeting                : O          O\n",
      "targeting                : O          O\n",
      "targeting                : O          O\n",
      "targeting                : O          O\n",
      "targeting                : O          O\n",
      "targeting                : O          O\n",
      "targeting                : O          O\n",
      "targeting                : O          O\n",
      "targeting                : O          O\n",
      "targeting                : O          O\n",
      "targeting                : O          O\n",
      "targeting                : O          O\n",
      "targeting                : O          O\n",
      "targeting                : O          O\n",
      "targeting                : O          O\n",
      "targeting                : O          O\n",
      "targeting                : O          O\n",
      "targeting                : O          O\n",
      "targeting                : O          O\n",
      "targeting                : O          O\n",
      "targeting                : O          O\n",
      "targeting                : O          O\n",
      "targeting                : O          O\n",
      "targeting                : O          O\n",
      "targeting                : O          O\n",
      "targeting                : O          O\n"
     ]
    }
   ],
   "source": [
    "#Testing a randomly selected sentence from the test_data\n",
    "i = randrange(len(test_tokens))\n",
    "p = nerModel.predict(np.array([test_tokens[i]]))\n",
    "p = np.argmax(p[0], axis=-1)\n",
    "true = np.argmax(test_tags[i], -1)\n",
    "print(\"{:25}||{:10}||{}\".format(\"Word\", \"Actual\", \"Pred\"))\n",
    "print(30 * \"=\")\n",
    "for w, t, pred in zip(test_tokens[i], true, p):\n",
    "    if w != 0:\n",
    "        print(\"{:25}: {:10} {}\".format(words[w-1], tags[t], tags[pred]))"
   ]
  },
  {
   "cell_type": "code",
   "execution_count": 25,
   "id": "15b83b4c",
   "metadata": {},
   "outputs": [],
   "source": [
    "def preprocess(sent):\n",
    "    sent = nltk.word_tokenize(sent)\n",
    "    sent = nltk.pos_tag(sent)\n",
    "    return sent"
   ]
  },
  {
   "cell_type": "code",
   "execution_count": 36,
   "id": "61373963",
   "metadata": {},
   "outputs": [],
   "source": [
    "def cleanText(test_sentence): \n",
    "    cleantext = BeautifulSoup(test_sentence).get_text()\n",
    "    cleantext = re.sub(\"\\d+\", \" \", cleantext) #remove digits\n",
    "    cleantext = re.sub('[^A-Za-z0-9]+', ' ', cleantext) #remove special characters\n",
    "    cleantext = re.sub(\"\\s+\", \" \", cleantext) #remove extra spaces\n",
    "\n",
    "    cleantext = word_tokenize(cleantext)\n",
    "    cleantext = [word for word in cleantext if word not in stopwords.words('english')]\n",
    "    return cleantext;\n",
    "\n",
    "test_sentence=\"Google LLC is an Indian American multinational technology company offers multitude of data for Australian people that specializes in Internet-related services and products, which include online advertising technologies, a search engine, cloud computing, software, and hardware.\"\n",
    "cleaned_test_sentence = cleanText(test_sentence);\n",
    "\n",
    "x_test_sent = pad_sequences(sequences=[[token2idx.get(w, 0) for w in cleaned_test_sentence]],padding=\"post\", value=0, maxlen=input_length)"
   ]
  },
  {
   "cell_type": "code",
   "execution_count": 37,
   "id": "6e8185ea",
   "metadata": {},
   "outputs": [
    {
     "name": "stdout",
     "output_type": "stream",
     "text": [
      "Word                     ||POS       ||Prediction\n",
      "Google                   : O          B-org\n",
      "LLC                      : O          O\n",
      "Indian                   : O          B-gpe\n",
      "American                 : O          B-gpe\n",
      "multinational            : O          O\n",
      "technology               : O          O\n",
      "company                  : O          O\n",
      "offers                   : O          O\n",
      "multitude                : B-geo      O\n",
      "data                     : B-tim      O\n",
      "Australian               : O          B-gpe\n",
      "people                   : O          O\n",
      "specializes              : O          O\n",
      "Internet                 : O          O\n",
      "related                  : O          O\n",
      "services                 : O          O\n",
      "products                 : O          O\n",
      "include                  : O          O\n",
      "online                   : O          O\n",
      "advertising              : O          O\n",
      "technologies             : O          O\n",
      "search                   : O          O\n",
      "engine                   : O          O\n",
      "cloud                    : O          O\n",
      "computing                : O          O\n",
      "software                 : O          O\n",
      "hardware                 : O          O\n"
     ]
    }
   ],
   "source": [
    "p = nerModel.predict(np.array([x_test_sent[0]]))\n",
    "p = np.argmax(p, axis=-1)\n",
    "pos = np.argmax(test_tags[i], -1)\n",
    "print(\"{:25}||{:10}||{}\".format(\"Word\",\"POS\", \"Prediction\"))\n",
    "for w,t, pred in zip(cleaned_test_sentence, pos,p[0]):\n",
    "    print(\"{:25}: {:10} {}\".format(w, tags[t], tags[pred]))"
   ]
  },
  {
   "cell_type": "code",
   "execution_count": null,
   "id": "0cf0b061",
   "metadata": {},
   "outputs": [],
   "source": []
  }
 ],
 "metadata": {
  "kernelspec": {
   "display_name": "Python 3",
   "language": "python",
   "name": "python3"
  },
  "language_info": {
   "codemirror_mode": {
    "name": "ipython",
    "version": 3
   },
   "file_extension": ".py",
   "mimetype": "text/x-python",
   "name": "python",
   "nbconvert_exporter": "python",
   "pygments_lexer": "ipython3",
   "version": "3.8.8"
  }
 },
 "nbformat": 4,
 "nbformat_minor": 5
}
