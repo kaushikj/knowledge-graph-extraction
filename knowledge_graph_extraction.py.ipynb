{
 "cells": [
  {
   "cell_type": "markdown",
   "metadata": {},
   "source": [
    "# Knowledge Graph Extraction\n",
    "Built by integrating Named Entity Recognition and Relation Extractor"
   ]
  },
  {
   "cell_type": "code",
   "execution_count": null,
   "metadata": {},
   "outputs": [],
   "source": [
    "%reset -f\n",
    "import json\n",
    "import import_ipynb\n",
    "from relation_extractor import get_model_bert_wiki80\n",
    "from nltk.tokenize import word_tokenize\n",
    "\n",
    "MIN_THRESHOLD_RE_PREDICTION = 0.6"
   ]
  },
  {
   "cell_type": "code",
   "execution_count": null,
   "metadata": {},
   "outputs": [],
   "source": [
    "re_model = get_model_bert_wiki80()\n",
    "text = 'He was the son of Mael Duin mac Maele Fithrich, and grandson of the high king aed Uaridnach (died 612).'\n",
    "tokens = word_tokenize(text)"
   ]
  },
  {
   "cell_type": "code",
   "execution_count": null,
   "metadata": {},
   "outputs": [],
   "source": [
    "NER_positions_list = [[(5,10), (17,19)]]\n",
    "\n",
    "node_relations = list()\n",
    "for ner_pair in NER_positions_list:\n",
    "    r1_rel, r1_score = re_model.infer({'token': tokens, 'h': {'pos': ner_pair[0]}, 't': {'pos': ner_pair[1]}})\n",
    "    head = ' '.join([tokens[i] for i in range(ner_pair[0][0], ner_pair[0][1])])\n",
    "    tail = ' '.join([tokens[i] for i in range(ner_pair[1][0], ner_pair[1][1])])\n",
    "    print('result_1', r1_score)\n",
    "    print(head)\n",
    "    print(r1_rel)\n",
    "    print(tail)\n",
    "\n",
    "    if r1_score > MIN_THRESHOLD_RE_PREDICTION:\n",
    "        node_relation = {\n",
    "            'head': head,\n",
    "            'tail': tail,\n",
    "            'relation': r1_rel\n",
    "        }\n",
    "        node_relations.append(node_relation)\n",
    "\n",
    "    r2_rel, r2_score = re_model.infer({'token': tokens, 'h': {'pos': ner_pair[1]}, 't': {'pos': ner_pair[0]}})\n",
    "    head = ' '.join([tokens[i] for i in range(ner_pair[1][0], ner_pair[1][1])])\n",
    "    tail = ' '.join([tokens[i] for i in range(ner_pair[0][0], ner_pair[0][1])])\n",
    "    print('\\nresult_2', r2_score)\n",
    "    print(head)\n",
    "    print(r2_rel)\n",
    "    print(tail)\n",
    "    if r2_score > MIN_THRESHOLD_RE_PREDICTION:\n",
    "        node_relation = {\n",
    "            'head': head,\n",
    "            'tail': tail,\n",
    "            'relation': r2_rel\n",
    "        }\n",
    "        node_relations.append(node_relation)"
   ]
  },
  {
   "cell_type": "code",
   "execution_count": null,
   "metadata": {},
   "outputs": [],
   "source": [
    "print(json.dumps(node_relations, indent=2))"
   ]
  }
 ],
 "metadata": {
  "kernelspec": {
   "display_name": "569a",
   "language": "python",
   "name": "569a"
  },
  "language_info": {
   "codemirror_mode": {
    "name": "ipython",
    "version": 3
   },
   "file_extension": ".py",
   "mimetype": "text/x-python",
   "name": "python",
   "nbconvert_exporter": "python",
   "pygments_lexer": "ipython3",
   "version": "3.8.5"
  }
 },
 "nbformat": 4,
 "nbformat_minor": 4
}
