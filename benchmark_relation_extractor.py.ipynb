{
 "cells": [
  {
   "cell_type": "code",
   "execution_count": null,
   "metadata": {},
   "outputs": [],
   "source": [
    "%reset -f\n",
    "import json\n",
    "import import_ipynb\n",
    "from relation_extractor import get_model_bert_wiki80"
   ]
  },
  {
   "cell_type": "code",
   "execution_count": null,
   "metadata": {},
   "outputs": [],
   "source": [
    "re_model = get_model_bert_wiki80()"
   ]
  },
  {
   "cell_type": "code",
   "execution_count": null,
   "metadata": {},
   "outputs": [],
   "source": [
    "line_count = 1\n",
    "test_cases = list()\n",
    "with open('./benchmark/wiki80/wiki80_val.txt', 'r') as f:\n",
    "    for line in f.readlines():\n",
    "        test_cases.append(json.loads(line))"
   ]
  },
  {
   "cell_type": "code",
   "execution_count": null,
   "metadata": {},
   "outputs": [],
   "source": [
    "for test_case in test_cases:\n",
    "    if not test_case['relation'] == 'director':\n",
    "        continue\n",
    "    result = re_model.infer(test_case)\n",
    "    print('\\n\\n')\n",
    "    print(' '.join(test_case['token']))\n",
    "    print('H',test_case['h']['name'])\n",
    "    print('T',test_case['t']['name'])\n",
    "    print(test_case['relation'])\n",
    "    print(result[0])\n",
    "    print(result[0]==test_case['relation'])"
   ]
  }
 ],
 "metadata": {
  "kernelspec": {
   "display_name": "569a",
   "language": "python",
   "name": "569a"
  },
  "language_info": {
   "codemirror_mode": {
    "name": "ipython",
    "version": 3
   },
   "file_extension": ".py",
   "mimetype": "text/x-python",
   "name": "python",
   "nbconvert_exporter": "python",
   "pygments_lexer": "ipython3",
   "version": "3.8.5"
  }
 },
 "nbformat": 4,
 "nbformat_minor": 4
}
