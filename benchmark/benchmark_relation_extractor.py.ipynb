{
 "cells": [
  {
   "cell_type": "code",
   "execution_count": 1,
   "metadata": {},
   "outputs": [
    {
     "name": "stderr",
     "output_type": "stream",
     "text": [
      "/Users/jithinperumpally/opt/anaconda3/lib/python3.8/site-packages/setuptools/distutils_patch.py:25: UserWarning: Distutils was imported before Setuptools. This usage is discouraged and may exhibit undesirable behaviors or errors. Please use Setuptools' objects directly or at least import Setuptools first.\n",
      "  warnings.warn(\n"
     ]
    },
    {
     "name": "stdout",
     "output_type": "stream",
     "text": [
      "0 He\n",
      "1 was\n",
      "2 the\n",
      "3 son\n",
      "4 of\n",
      "5 Mael\n",
      "6 Duin\n",
      "7 mac\n",
      "8 Maele\n",
      "9 Fithrich\n",
      "10 ,\n",
      "11 and\n",
      "12 grandson\n",
      "13 of\n",
      "14 the\n",
      "15 high\n",
      "16 king\n",
      "17 aed\n",
      "18 Uaridnach\n",
      "19 (\n",
      "20 died\n",
      "21 612\n",
      "22 )\n",
      "23 .\n",
      "('father', 0.6927435398101807)\n"
     ]
    }
   ],
   "source": [
    "%reset -f\n",
    "import json\n",
    "import import_ipynb\n",
    "from relation_extractor import get_model_bert_wiki80"
   ]
  },
  {
   "cell_type": "code",
   "execution_count": 2,
   "metadata": {},
   "outputs": [],
   "source": [
    "re_model = get_model_bert_wiki80()"
   ]
  },
  {
   "cell_type": "code",
   "execution_count": 3,
   "metadata": {},
   "outputs": [
    {
     "name": "stdout",
     "output_type": "stream",
     "text": [
      "Training accuracy  98.57142857142858\n"
     ]
    }
   ],
   "source": [
    "test_cases = list()\n",
    "with open('./benchmark/wiki80/wiki80_train.txt', 'r') as f:\n",
    "    for line in f.readlines():\n",
    "        test_cases.append(json.loads(line))\n",
    "\n",
    "correct_count = 0\n",
    "incorrect_count = 0\n",
    "\n",
    "for test_case in test_cases:\n",
    "    if not test_case['relation'] == 'director':\n",
    "        continue\n",
    "    result = re_model.infer(test_case)\n",
    "    if result[0]==test_case['relation']:\n",
    "        correct_count += 1\n",
    "    else:\n",
    "        incorrect_count += 1\n",
    "\n",
    "print('Training accuracy ', correct_count/(correct_count+incorrect_count) * 100)"
   ]
  },
  {
   "cell_type": "code",
   "execution_count": 4,
   "metadata": {},
   "outputs": [
    {
     "name": "stdout",
     "output_type": "stream",
     "text": [
      "Validation accuracy  88.57142857142857\n"
     ]
    }
   ],
   "source": [
    "test_cases = list()\n",
    "with open('./benchmark/wiki80/wiki80_val.txt', 'r') as f:\n",
    "    for line in f.readlines():\n",
    "        test_cases.append(json.loads(line))\n",
    "\n",
    "correct_count = 0\n",
    "incorrect_count = 0\n",
    "\n",
    "for test_case in test_cases:\n",
    "    if not test_case['relation'] == 'director':\n",
    "        continue\n",
    "    result = re_model.infer(test_case)\n",
    "    if result[0]==test_case['relation']:\n",
    "        correct_count += 1\n",
    "    else:\n",
    "        incorrect_count += 1\n",
    "\n",
    "print('Validation accuracy ', correct_count/(correct_count+incorrect_count) * 100)"
   ]
  },
  {
   "cell_type": "code",
   "execution_count": null,
   "metadata": {},
   "outputs": [],
   "source": []
  }
 ],
 "metadata": {
  "kernelspec": {
   "display_name": "Python 3",
   "language": "python",
   "name": "python3"
  },
  "language_info": {
   "codemirror_mode": {
    "name": "ipython",
    "version": 3
   },
   "file_extension": ".py",
   "mimetype": "text/x-python",
   "name": "python",
   "nbconvert_exporter": "python",
   "pygments_lexer": "ipython3",
   "version": "3.8.3"
  }
 },
 "nbformat": 4,
 "nbformat_minor": 4
}
